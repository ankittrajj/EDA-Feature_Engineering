{
 "cells": [
  {
   "cell_type": "markdown",
   "id": "7c3f01ad",
   "metadata": {},
   "source": [
    "# EDA\n",
    "1. Source----> Kaggle\n",
    "2. Info about accidents in USA\n",
    "3. Used to prevent the accidents in USA"
   ]
  },
  {
   "cell_type": "code",
   "execution_count": 1,
   "id": "e780af16",
   "metadata": {},
   "outputs": [],
   "source": [
    "# importing libraries\n",
    "\n",
    "import numpy as np\n",
    "import pandas as pd\n",
    "import seaborn as sns\n",
    "import matplotlib.pyplot as plt"
   ]
  },
  {
   "cell_type": "code",
   "execution_count": null,
   "id": "41e23708",
   "metadata": {},
   "outputs": [],
   "source": [
    "# reading the file \n",
    "df = pd.read_csv('./US_Accidents.csv')"
   ]
  },
  {
   "cell_type": "code",
   "execution_count": null,
   "id": "706ec3ea",
   "metadata": {},
   "outputs": [],
   "source": [
    "# checking the head of the data\n",
    "df.head()"
   ]
  },
  {
   "cell_type": "code",
   "execution_count": null,
   "id": "5da31022",
   "metadata": {},
   "outputs": [],
   "source": [
    "# identify the shape of the data\n",
    "df.shape"
   ]
  },
  {
   "cell_type": "markdown",
   "id": "f786dd36",
   "metadata": {},
   "source": [
    "# Data Preparation & Cleaning\n",
    "1. get some info about the data\n",
    "2. fix missing or incorrect values."
   ]
  },
  {
   "cell_type": "code",
   "execution_count": null,
   "id": "118bb728",
   "metadata": {},
   "outputs": [],
   "source": [
    "df.columns"
   ]
  },
  {
   "cell_type": "code",
   "execution_count": null,
   "id": "835651e5",
   "metadata": {},
   "outputs": [],
   "source": [
    "df.describe()"
   ]
  },
  {
   "cell_type": "code",
   "execution_count": null,
   "id": "327133d4",
   "metadata": {},
   "outputs": [],
   "source": [
    "# getting the info about different type of data types available in data.\n",
    "df.info()"
   ]
  },
  {
   "cell_type": "code",
   "execution_count": null,
   "id": "bf4f5250",
   "metadata": {},
   "outputs": [],
   "source": [
    "# lets count the numerical col in the data.\n",
    "numeric = ['int16','int32','int64','float16','float32','float64' ]\n",
    "numeric_df = df.select_dtypes(include=numeric)\n",
    "numeric_df"
   ]
  },
  {
   "cell_type": "code",
   "execution_count": null,
   "id": "0857a7fc",
   "metadata": {},
   "outputs": [],
   "source": [
    "len(numeric_df.columns)"
   ]
  },
  {
   "cell_type": "code",
   "execution_count": null,
   "id": "4f5e1597",
   "metadata": {},
   "outputs": [],
   "source": [
    "# checking the null value present in the data\n",
    "df.isna().sum()"
   ]
  },
  {
   "cell_type": "markdown",
   "id": "8ed2e219",
   "metadata": {},
   "source": [
    "# Percentage of missing values per columns "
   ]
  },
  {
   "cell_type": "code",
   "execution_count": null,
   "id": "2b21028b",
   "metadata": {},
   "outputs": [],
   "source": [
    "df.isnull().sum().sum()"
   ]
  },
  {
   "cell_type": "code",
   "execution_count": null,
   "id": "fdbae161",
   "metadata": {},
   "outputs": [],
   "source": [
    "df.isnull().sum().sort_values(ascending=False)"
   ]
  },
  {
   "cell_type": "code",
   "execution_count": null,
   "id": "c38dad6d",
   "metadata": {},
   "outputs": [],
   "source": [
    "# percentage\n",
    "missing_value_per =  df.isnull().sum().sort_values(ascending=False)/len(df)"
   ]
  },
  {
   "cell_type": "code",
   "execution_count": null,
   "id": "60bc5c03",
   "metadata": {},
   "outputs": [],
   "source": [
    "(missing_value_per)*100"
   ]
  },
  {
   "cell_type": "code",
   "execution_count": null,
   "id": "4c67f618",
   "metadata": {},
   "outputs": [],
   "source": [
    "# missing value graphs\n",
    "missing_value_per.plot(kind='bar',figsize=(12,9))"
   ]
  },
  {
   "cell_type": "code",
   "execution_count": null,
   "id": "1fc64bfd",
   "metadata": {},
   "outputs": [],
   "source": [
    "# remove the columns which have no missing values\n",
    "missing_value_per>0"
   ]
  },
  {
   "cell_type": "code",
   "execution_count": null,
   "id": "1dfcdb70",
   "metadata": {},
   "outputs": [],
   "source": [
    "missing_value_per[missing_value_per>0]"
   ]
  },
  {
   "cell_type": "code",
   "execution_count": null,
   "id": "3ac30819",
   "metadata": {},
   "outputs": [],
   "source": [
    "# let's plot the graph for this missing values\n",
    "missing_value_per[missing_value_per>0].plot(kind = 'barh',figsize=(10,5))"
   ]
  },
  {
   "cell_type": "markdown",
   "id": "1c4c78cb",
   "metadata": {},
   "source": [
    "# Remove the columns which is having more than 50% missing values."
   ]
  },
  {
   "cell_type": "code",
   "execution_count": null,
   "id": "aeff7751",
   "metadata": {},
   "outputs": [],
   "source": [
    "# going to remove the data which have more than 50% null value\n",
    "missing_value_per[missing_value_per>0.5]"
   ]
  },
  {
   "cell_type": "code",
   "execution_count": null,
   "id": "b1bc2b6b",
   "metadata": {},
   "outputs": [],
   "source": [
    "newdf = df.drop(['Number'],axis = 1)"
   ]
  },
  {
   "cell_type": "code",
   "execution_count": null,
   "id": "a1f52172",
   "metadata": {},
   "outputs": [],
   "source": [
    "newdf.shape"
   ]
  },
  {
   "cell_type": "markdown",
   "id": "aa5c6ee5",
   "metadata": {},
   "source": [
    "# EDA & Vizualisation\n",
    "\n",
    "## col need to be analyse\n",
    "1. City\n",
    "2. Start Time\n",
    "3. Start lat, Start lon\n",
    "4. Temperature\n",
    "5. Weather Condition"
   ]
  },
  {
   "cell_type": "markdown",
   "id": "8e47b7f2",
   "metadata": {},
   "source": [
    "## City"
   ]
  },
  {
   "cell_type": "code",
   "execution_count": null,
   "id": "925a5cb5",
   "metadata": {},
   "outputs": [],
   "source": [
    "# 1 Are there more accident in wormer or colder area?\n",
    "# 2. Which 5 state have highest  nunber of accidents? how about per capita.\n",
    "# 3. Does New york show up in the data? If yes, why is the count lower if  this is most populated city.\n",
    "# 4. Among the top 100 ,cities in number of accidents ,which state do they belong to most frequently.\n",
    "\n",
    "# 5. What time of the day are accidents most frequent in?\n",
    "# 6. Which days of the week have the most accidents?\n",
    "# 7. Which month have the most accidents?\n",
    "# 8. What is the trend of accidents year over year?(decrease or increase)\n",
    "# 9. \n",
    "\n",
    "\n"
   ]
  },
  {
   "cell_type": "code",
   "execution_count": null,
   "id": "945a11db",
   "metadata": {},
   "outputs": [],
   "source": [
    "# analyse city by accident\n",
    "df['City'].nunique()"
   ]
  },
  {
   "cell_type": "code",
   "execution_count": null,
   "id": "305a24cc",
   "metadata": {},
   "outputs": [],
   "source": [
    "city_by_accident = df['City'].value_counts()"
   ]
  },
  {
   "cell_type": "code",
   "execution_count": null,
   "id": "98e23390",
   "metadata": {},
   "outputs": [],
   "source": [
    "city_by_accident"
   ]
  },
  {
   "cell_type": "code",
   "execution_count": null,
   "id": "ff6ac6db",
   "metadata": {},
   "outputs": [],
   "source": [
    "# top 10 cities in terms of accident\n",
    "city_by_accident[:10]"
   ]
  },
  {
   "cell_type": "code",
   "execution_count": null,
   "id": "b97a42e2",
   "metadata": {},
   "outputs": [],
   "source": [
    "# plotting the top 10 cities to the graph\n",
    "city_by_accident[:20].plot(kind = 'bar',figsize = (10,10))"
   ]
  },
  {
   "cell_type": "code",
   "execution_count": null,
   "id": "5427dd52",
   "metadata": {},
   "outputs": [],
   "source": [
    "# Among the top 100 city in number of accidents, which state do they belong to most frequent.\n"
   ]
  },
  {
   "cell_type": "code",
   "execution_count": null,
   "id": "a64e437d",
   "metadata": {},
   "outputs": [],
   "source": [
    "sns.set_style('darkgrid')\n",
    "sns.distplot(city_by_accident)"
   ]
  },
  {
   "cell_type": "code",
   "execution_count": null,
   "id": "bce12eb5",
   "metadata": {},
   "outputs": [],
   "source": [
    "high_acc_city = city_by_accident[city_by_accident>=1000]"
   ]
  },
  {
   "cell_type": "code",
   "execution_count": null,
   "id": "63531c24",
   "metadata": {},
   "outputs": [],
   "source": [
    "high_acc_city.shape"
   ]
  },
  {
   "cell_type": "code",
   "execution_count": null,
   "id": "b50ef158",
   "metadata": {},
   "outputs": [],
   "source": [
    "low_acc_city = city_by_accident[city_by_accident<1000]"
   ]
  },
  {
   "cell_type": "code",
   "execution_count": null,
   "id": "c409cf57",
   "metadata": {},
   "outputs": [],
   "source": [
    "low_acc_city.shape"
   ]
  },
  {
   "cell_type": "code",
   "execution_count": null,
   "id": "ebd05544",
   "metadata": {},
   "outputs": [],
   "source": [
    "sns.distplot(high_acc_city)"
   ]
  },
  {
   "cell_type": "code",
   "execution_count": null,
   "id": "507ea0a3",
   "metadata": {},
   "outputs": [],
   "source": [
    "sns.distplot(low_acc_city)"
   ]
  },
  {
   "cell_type": "code",
   "execution_count": null,
   "id": "73174b85",
   "metadata": {},
   "outputs": [],
   "source": [
    "sns.histplot(low_acc_city,log_scale=True)"
   ]
  },
  {
   "cell_type": "code",
   "execution_count": null,
   "id": "c03c6b94",
   "metadata": {},
   "outputs": [],
   "source": [
    "sns.histplot(high_acc_city,log_scale=True)"
   ]
  },
  {
   "cell_type": "code",
   "execution_count": null,
   "id": "e8a833a3",
   "metadata": {},
   "outputs": [],
   "source": [
    "city_by_accident[city_by_accident==1].value_counts()"
   ]
  },
  {
   "cell_type": "markdown",
   "id": "eef1935d",
   "metadata": {},
   "source": [
    "## Start Time"
   ]
  },
  {
   "cell_type": "code",
   "execution_count": null,
   "id": "e0688ac4",
   "metadata": {},
   "outputs": [],
   "source": [
    "df.columns"
   ]
  },
  {
   "cell_type": "code",
   "execution_count": null,
   "id": "1aa8b1cc",
   "metadata": {},
   "outputs": [],
   "source": [
    "df.Start_Time"
   ]
  },
  {
   "cell_type": "code",
   "execution_count": null,
   "id": "b4d5492a",
   "metadata": {},
   "outputs": [],
   "source": [
    "df.Start_Time = pd.to_datetime(df.Start_Time)"
   ]
  },
  {
   "cell_type": "code",
   "execution_count": null,
   "id": "7e3e5e84",
   "metadata": {},
   "outputs": [],
   "source": [
    "df.Start_Time[1].hour"
   ]
  },
  {
   "cell_type": "code",
   "execution_count": null,
   "id": "26255355",
   "metadata": {},
   "outputs": [],
   "source": [
    "# extract the timestamp col to hours\n",
    "df.Start_Time.dt.hour"
   ]
  },
  {
   "cell_type": "code",
   "execution_count": null,
   "id": "9e34d71e",
   "metadata": {},
   "outputs": [],
   "source": [
    "sns.distplot(df.Start_Time.dt.hour,bins = 24,kde = False,norm_hist=True)\n",
    "# put bins = 24 hour because we have a day having 24 hours."
   ]
  },
  {
   "cell_type": "markdown",
   "id": "25645919",
   "metadata": {},
   "source": [
    "\n",
    "<!-- ### A high percentage of accident occur in between 7-9AM  -->"
   ]
  },
  {
   "cell_type": "markdown",
   "id": "ba46e9d0",
   "metadata": {},
   "source": [
    "### A high percentage of accident occur in between 4-9 am \n",
    "#### and next highest percentage of accident occur in between 11am -5 pm "
   ]
  },
  {
   "cell_type": "code",
   "execution_count": null,
   "id": "8ff0cc65",
   "metadata": {},
   "outputs": [],
   "source": [
    "sns.distplot(df.Start_Time.dt.day_of_week,bins = 7,norm_hist=True,kde = False)"
   ]
  },
  {
   "cell_type": "code",
   "execution_count": null,
   "id": "c3e52634",
   "metadata": {},
   "outputs": [],
   "source": [
    "# is the distribution of accidents by hour the same on weekend as on weekedays.\n",
    "weekend_start_time = df.Start_Time[(df.Start_Time.dt.day_of_week==6) | (df.Start_Time.dt.day_of_week==7)]"
   ]
  },
  {
   "cell_type": "code",
   "execution_count": null,
   "id": "73c63b3f",
   "metadata": {},
   "outputs": [],
   "source": [
    "weekend_start_time"
   ]
  },
  {
   "cell_type": "code",
   "execution_count": null,
   "id": "6e65adb6",
   "metadata": {},
   "outputs": [],
   "source": [
    "sunday_start_time = df.Start_Time[df.Start_Time.dt.day_of_week==6]"
   ]
  },
  {
   "cell_type": "code",
   "execution_count": null,
   "id": "c6c55ac5",
   "metadata": {},
   "outputs": [],
   "source": [
    "sunday_start_time"
   ]
  },
  {
   "cell_type": "code",
   "execution_count": null,
   "id": "56a44344",
   "metadata": {},
   "outputs": [],
   "source": [
    "sns.distplot(sunday_start_time.dt.hour,bins = 24,norm_hist=True,kde = False)"
   ]
  },
  {
   "cell_type": "markdown",
   "id": "b5ba5104",
   "metadata": {},
   "source": [
    "# On Sunday the accident occurs mostly in between the afternoon (from 10am to 7pm)"
   ]
  },
  {
   "cell_type": "code",
   "execution_count": null,
   "id": "abfa97e6",
   "metadata": {},
   "outputs": [],
   "source": [
    "monday_start_time = df.Start_Time[df.Start_Time.dt.day_of_week==0]"
   ]
  },
  {
   "cell_type": "code",
   "execution_count": null,
   "id": "ef20f9b6",
   "metadata": {},
   "outputs": [],
   "source": [
    "sns.distplot(monday_start_time.dt.hour,kde = False,bins=24,norm_hist=True)"
   ]
  },
  {
   "cell_type": "markdown",
   "id": "c1bec158",
   "metadata": {},
   "source": [
    "#  On Monday the accident occurs mostly in between the early morning 5-7Am afternoon (from 10am to 5pm)"
   ]
  },
  {
   "cell_type": "code",
   "execution_count": null,
   "id": "02c22e0c",
   "metadata": {},
   "outputs": [],
   "source": []
  },
  {
   "cell_type": "markdown",
   "id": "019a4206",
   "metadata": {},
   "source": [
    "# Summary & Conclusion\n",
    "\n",
    "## Insights\n",
    "1. US data has no data for New York\n",
    "2. less than 5% of the cities have more than 1000 yearly accidents.\n",
    "3. Over 1000(1110) cities have only one accident case.\n",
    "4. The number of accident by cities is decreasing/increases exponentially.\n",
    "5. Weekend have less number of accidents.\n",
    "\n",
    "\n"
   ]
  },
  {
   "cell_type": "code",
   "execution_count": null,
   "id": "4712e155",
   "metadata": {},
   "outputs": [],
   "source": []
  },
  {
   "cell_type": "code",
   "execution_count": null,
   "id": "3e43372c",
   "metadata": {},
   "outputs": [],
   "source": []
  }
 ],
 "metadata": {
  "kernelspec": {
   "display_name": "Python 3 (ipykernel)",
   "language": "python",
   "name": "python3"
  },
  "language_info": {
   "codemirror_mode": {
    "name": "ipython",
    "version": 3
   },
   "file_extension": ".py",
   "mimetype": "text/x-python",
   "name": "python",
   "nbconvert_exporter": "python",
   "pygments_lexer": "ipython3",
   "version": "3.9.7"
  }
 },
 "nbformat": 4,
 "nbformat_minor": 5
}
